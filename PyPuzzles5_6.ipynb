{
 "cells": [
  {
   "cell_type": "markdown",
   "metadata": {},
   "source": [
    "#### Task 5\n",
    "\n",
    "\n",
    "Define a function ****get_longest_string** that takes one parameter:\n",
    "| Name     | Type | Example Input        |\n",
    "|----------|-----|-------------|\n",
    "| input_strs   | list of str  | [\"cat\", \"dog\", \"bird\", \"lizard\"]   |\n",
    "\n",
    "\n",
    "When called, the function should return the longest string in the list. If there are ties, return the string that appears first in the list."
   ]
  },
  {
   "cell_type": "code",
   "execution_count": 2,
   "metadata": {},
   "outputs": [
    {
     "name": "stdout",
     "output_type": "stream",
     "text": [
      "Longest string: lizard.\n",
      "Longest string: bird.\n",
      "Longest string: a.\n"
     ]
    }
   ],
   "source": [
    "def get_longest_string(input_strs: list[str]) -> str:\n",
    "    longestStringIndex = 0\n",
    "    longestStringLength = 0\n",
    "    for string in input_strs:\n",
    "        currentLength = len(string)\n",
    "        if currentLength > longestStringLength:\n",
    "            longestStringLength = currentLength\n",
    "            longestStringIndex = input_strs.index(string)\n",
    "    return input_strs[longestStringIndex]\n",
    "\n",
    "result1 = get_longest_string([\"cat\", \"dog\", \"bird\", \"lizard\"])\n",
    "result2 = get_longest_string([\"cat\", \"dog\", \"bird\", \"wolf\"])\n",
    "result3 = get_longest_string([\"a\", \"b\", \"c\", \"d\"])\n",
    "\n",
    "print(f\"Longest string: {result1}.\")\n",
    "print(f\"Longest string: {result2}.\")\n",
    "print(f\"Longest string: {result3}.\")"
   ]
  },
  {
   "cell_type": "code",
   "execution_count": 3,
   "metadata": {},
   "outputs": [
    {
     "name": "stdout",
     "output_type": "stream",
     "text": [
      "Longest string: lizard.\n",
      "Longest string: bird.\n",
      "Longest string: a.\n"
     ]
    }
   ],
   "source": [
    "def get_longest_string(input_strs: list[str]) -> str:\n",
    "    longest_string = \"\"\n",
    "    for string in input_strs:\n",
    "        if len(string) > len(longest_string):\n",
    "            longest_string = string\n",
    "    return longest_string\n",
    "\n",
    "result1 = get_longest_string([\"cat\", \"dog\", \"bird\", \"lizard\"])\n",
    "result2 = get_longest_string([\"cat\", \"dog\", \"bird\", \"wolf\"])\n",
    "result3 = get_longest_string([\"a\", \"b\", \"c\", \"d\"])\n",
    "\n",
    "print(f\"Longest string: {result1}.\")\n",
    "print(f\"Longest string: {result2}.\")\n",
    "print(f\"Longest string: {result3}.\")"
   ]
  },
  {
   "cell_type": "markdown",
   "metadata": {},
   "source": [
    "## Principles for Efficient Variable Usage\n",
    "\n",
    "1. Minimize Temporary Variables\n",
    "    - If a variable is only used temporarily within a loop or condition, it doesn’t need to be stored separately.\n",
    "    - For example, currentLength in the original code is only used to compare string lengths within the loop. By removing it, we can simplify the code.\n",
    "2. Identify Redundant Variables\n",
    "    - If two variables are closely related or store redundant information, consider combining them.\n",
    "    - In this case, longestStringIndex and **longestStringLength** both help track the longest string, but **longestStringIndex** alone could accomplish this by directly accessing the string's length when needed.\n",
    "3. Re-evaluate Data Storage Strategy\n",
    "    - Sometimes, the way you structure data storage affects the need for multiple variables.\n",
    "    - For instance, instead of tracking the index and length separately, we can directly store the longest string found so far."
   ]
  },
  {
   "cell_type": "markdown",
   "metadata": {},
   "source": [
    "#### Task 6\n",
    "\n",
    "Define a function **filter_even_length_strings** that takes one parameter:\n",
    "| Name     | Type | Example Input        |\n",
    "|----------|-----|-------------|\n",
    "| input_strs   | list of str  | [\"cat\", \"dog\", \"fish\", \"elephant\"]   |\n",
    "\n",
    "When called, the function should return a new list with all the strings that have an even number of characters."
   ]
  },
  {
   "cell_type": "code",
   "execution_count": 6,
   "metadata": {},
   "outputs": [
    {
     "name": "stdout",
     "output_type": "stream",
     "text": [
      "Even strings: ['fish', 'elephant'].\n",
      "Even strings: [].\n",
      "Even strings: ['qq', 'ww', 'ee', 'rr', 'tt', 'yy'].\n"
     ]
    }
   ],
   "source": [
    "def filter_even_length_strings(input_strs: list[str]) -> str:\n",
    "    even_string_list = []\n",
    "    for string in input_strs:\n",
    "        if len(string) % 2 == 0:\n",
    "            even_string_list.append(string)\n",
    "    return even_string_list\n",
    "\n",
    "result1 = filter_even_length_strings([\"cat\", \"dog\", \"fish\", \"elephant\"])\n",
    "result2 = filter_even_length_strings([\"q\", \"w\", \"e\", \"r\", \"t\", \"y\"])\n",
    "result3 = filter_even_length_strings([\"qq\", \"ww\", \"ee\", \"rr\", \"tt\", \"yy\"])\n",
    "\n",
    "print(f\"Even strings: {result1}.\")\n",
    "print(f\"Even strings: {result2}.\")\n",
    "print(f\"Even strings: {result3}.\")"
   ]
  }
 ],
 "metadata": {
  "kernelspec": {
   "display_name": "Python 3",
   "language": "python",
   "name": "python3"
  },
  "language_info": {
   "codemirror_mode": {
    "name": "ipython",
    "version": 3
   },
   "file_extension": ".py",
   "mimetype": "text/x-python",
   "name": "python",
   "nbconvert_exporter": "python",
   "pygments_lexer": "ipython3",
   "version": "3.12.7"
  }
 },
 "nbformat": 4,
 "nbformat_minor": 2
}
