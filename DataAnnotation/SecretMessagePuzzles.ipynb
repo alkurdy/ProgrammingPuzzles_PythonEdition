{
 "cells": [
  {
   "cell_type": "markdown",
   "metadata": {},
   "source": [
    "#### Task 1\n",
    "You are given a Google Doc like this one that contains a list of Unicode characters and their positions in a 2D grid. \n",
    "Write a function that takes in the URL as an argument, retrieves and parses the data in the document and prints the grid of characters.\n",
    "When printed in a fixed-width font, the characters in the grid will form a graphic showing a sequence of uppercase letters, which is the secret message.\n",
    "\n",
    "- The document specifies the Unicode characters in the grid, along with the x- and y-coordinates of each character.\n",
    "\n",
    "- The minimum possible value of these coordinates is 0. There is no maximum possible value, so the grid can be arbitrarily large.\n",
    "\n",
    "- Any positions in the grid that do not have a specified character should be filled with a space character.\n",
    "\n",
    "- You can assume the document will always have the same format as the example document linked above.\n",
    "\n",
    "Example Link: https://docs.google.com/document/d/e/2PACX-1vRMx5YQlZNa3ra8dYYxmv-QIQ3YJe8tbI3kqcuC7lQiZm-CSEznKfN_HYNSpoXcZIV3Y_O3YoUB1ecq/pub\n",
    "Task Link: https://docs.google.com/document/d/e/2PACX-1vQGUck9HIFCyezsrBSnmENk5ieJuYwpt7YHYEzeNJkIb9OSDdx-ov2nRNReKQyey-cwJOoEKUhLmN9z/pub\n"
   ]
  },
  {
   "cell_type": "code",
   "execution_count": null,
   "metadata": {},
   "outputs": [
    {
     "name": "stdout",
     "output_type": "stream",
     "text": [
      "(10, 100)\n",
      "https://docs.google.com/document/d/e/2PACX-1vRMx5YQlZNa3ra8dYYxmv-QIQ3YJe8tbI3kqcuC7lQiZm-CSEznKfN_HYNSpoXcZIV3Y_O3YoUB1ecq/pub\n"
     ]
    }
   ],
   "source": [
    "import numpy as np # type: ignore\n",
    "import requests # type: ignore\n",
    "\n",
    "# Url to the Google document containing the code snippet\n",
    "urlLink = \"https://docs.google.com/document/d/e/2PACX-1vRMx5YQlZNa3ra8dYYxmv-QIQ3YJe8tbI3kqcuC7lQiZm-CSEznKfN_HYNSpoXcZIV3Y_O3YoUB1ecq/pub\"\n",
    "\n",
    "# Initializing a 2D grid with 10 rows and 100 columns filled with zeros.\n",
    "grid = np.zeros((10, 100))\n",
    "print(grid.shape)  # Output: (10, 100)\n",
    "\n",
    "print(urlLink)  # Output: URL to the Google document"
   ]
  }
 ],
 "metadata": {
  "kernelspec": {
   "display_name": "base",
   "language": "python",
   "name": "python3"
  },
  "language_info": {
   "codemirror_mode": {
    "name": "ipython",
    "version": 3
   },
   "file_extension": ".py",
   "mimetype": "text/x-python",
   "name": "python",
   "nbconvert_exporter": "python",
   "pygments_lexer": "ipython3",
   "version": "3.12.4"
  }
 },
 "nbformat": 4,
 "nbformat_minor": 2
}
