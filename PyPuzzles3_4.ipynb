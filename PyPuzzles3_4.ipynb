{
 "cells": [
  {
   "cell_type": "markdown",
   "metadata": {},
   "source": [
    "#### Task 3\n",
    "\n",
    "Define a function **sum_even** that takes one parameter:\n",
    "| Name     | Type | Example Input        |\n",
    "|----------|-----|-------------|\n",
    "| input_nums   | list of int  | [1, 2, 3, 4, 5, 6, 7, 8, 9, 10]   |\n",
    "\n",
    "\n",
    "When called, the function should return the sum of even integers in the list."
   ]
  },
  {
   "cell_type": "code",
   "execution_count": 7,
   "metadata": {},
   "outputs": [
    {
     "name": "stdout",
     "output_type": "stream",
     "text": [
      "Sum of even numbers: 30.\n",
      "Sum of even numbers: 150.\n",
      "Sum of even numbers: 0.\n"
     ]
    }
   ],
   "source": [
    "def sum_even(input_nums: list[int]) -> int:\n",
    "    sum = 0\n",
    "    for number in input_nums:\n",
    "        if (number%2) == 0 :\n",
    "            sum += number\n",
    "\n",
    "    return sum\n",
    "\n",
    "\n",
    "result1 = sum_even([1,2,3,4,5,6,7,8,9,10])\n",
    "result2 = sum_even([10,20,30,40,50])\n",
    "result3 = sum_even([9,7,5,3,1])\n",
    "\n",
    "print(f\"Sum of even numbers: {result1}.\")\n",
    "print(f\"Sum of even numbers: {result2}.\")\n",
    "print(f\"Sum of even numbers: {result3}.\")"
   ]
  },
  {
   "cell_type": "markdown",
   "metadata": {},
   "source": [
    "### Function Documentation\n",
    "\n",
    "# Using the Modulus Operator in Python\n",
    "\n",
    "The modulus operator `%` is used to find the remainder of a division operation. Here's a simple guide on how to use it.\n",
    "\n",
    "## Basic Usage\n",
    "\n",
    "1. **Syntax**: \n",
    "   ```python\n",
    "   result = a % b\n"
   ]
  },
  {
   "cell_type": "code",
   "execution_count": null,
   "metadata": {},
   "outputs": [],
   "source": [
    "# Using modulus in loops\n",
    "for i in range(10):\n",
    "    if i % 2 == 0:\n",
    "        print(f\"{i} is even\")\n",
    "    else:\n",
    "        print(f\"{i} is odd\")"
   ]
  },
  {
   "cell_type": "code",
   "execution_count": null,
   "metadata": {},
   "outputs": [],
   "source": [
    "# Example of working with negative numbers\n",
    "a = -10\n",
    "b = 3\n",
    "result = a % b  # This will be 2, since -10 divided by 3 is -4 with a remainder of 2\n",
    "print(result)    # Output: 2\n",
    "\n",
    "a = 10\n",
    "b = -3\n",
    "result = a % b  # This will be -2, since 10 divided by -3 is -3 with a remainder of -2\n",
    "print(result)    # Output: -2"
   ]
  },
  {
   "cell_type": "code",
   "execution_count": null,
   "metadata": {},
   "outputs": [
    {
     "name": "stdout",
     "output_type": "stream",
     "text": [
      "1\n"
     ]
    }
   ],
   "source": [
    "# Example of using the modulus operator\n",
    "a = 10\n",
    "b = 3\n",
    "result = a % b  # This will be 1, since 10 divided by 3 is 3 with a remainder of 1\n",
    "print(result)   # Output: 1"
   ]
  },
  {
   "cell_type": "markdown",
   "metadata": {},
   "source": [
    "#### Task 4\n",
    "\n",
    "Define a function **remove_vowels** that takes one parameter:\n",
    "\n",
    "| Name     | Type | Example Input        |\n",
    "|----------|-----|-------------|\n",
    "| input_str  | str  | \"Hello, World!\"  |\n",
    "\n",
    "When called, the function should return a new string with all the vowels removed."
   ]
  },
  {
   "cell_type": "code",
   "execution_count": 15,
   "metadata": {},
   "outputs": [
    {
     "name": "stdout",
     "output_type": "stream",
     "text": [
      "Result 1 (Hello, World!): Hll, Wrld!\n",
      "Result 2 (aeiouAEIOU): \n",
      "Result 3 (zzxxxccvvvbbnnmmmLLKKJJHH): zzxxxccvvvbbnnmmmLLKKJJHH\n"
     ]
    }
   ],
   "source": [
    "def remove_vowels(input_str: str) -> str:\n",
    "        # Lower and upper vowels list\n",
    "        vowels = ['a', 'e', 'i', 'o', 'u', 'A', 'E', 'I', 'O', 'U']\n",
    "        new_str = \"\" # Initialize new_str to hold the result\n",
    "\n",
    "        for char in input_str:\n",
    "                if char not in vowels:\n",
    "                        new_str += char\n",
    "                \n",
    "        return new_str\n",
    "                     \n",
    "\n",
    "# Store the results in different variables\n",
    "output1 = remove_vowels(\"Hello, World!\")\n",
    "output2 = remove_vowels(\"aeiouAEIOU\")\n",
    "output3 = remove_vowels(\"zzxxxccvvvbbnnmmmLLKKJJHH\")\n",
    "\n",
    "# Print each result separately with a label\n",
    "print(\"Result 1 (Hello, World!):\", output1)\n",
    "print(\"Result 2 (aeiouAEIOU):\", output2)\n",
    "print(\"Result 3 (zzxxxccvvvbbnnmmmLLKKJJHH):\", output3)"
   ]
  },
  {
   "cell_type": "markdown",
   "metadata": {},
   "source": [
    "Go letter by letter in the string\n",
    "Check each letter against the vowel letter list\n",
    "If the letter to a new string if it's not a vowel"
   ]
  },
  {
   "cell_type": "markdown",
   "metadata": {},
   "source": [
    "## Breakdown of the Notation\n",
    "\n",
    "- **`->`**: This symbol indicates the start of a return type annotation in a function definition. It follows the parameter list and precedes the colon (`:`) that ends the function signature.\n",
    "\n",
    "- **`int`**: This indicates that the function can return an integer value. In Python, `int` is the type for integer numbers.\n",
    "\n",
    "- **`|`**: This symbol represents a union type. It indicates that the function can return one of multiple types. In this case, it means the function can return either an `int` or another type specified after the `|`.\n",
    "\n",
    "- **`None`**: This indicates that the function can also return `None`, which is a special constant in Python representing the absence of a value. Functions in Python return `None` by default if there is no return statement.\n"
   ]
  }
 ],
 "metadata": {
  "kernelspec": {
   "display_name": "base",
   "language": "python",
   "name": "python3"
  },
  "language_info": {
   "codemirror_mode": {
    "name": "ipython",
    "version": 3
   },
   "file_extension": ".py",
   "mimetype": "text/x-python",
   "name": "python",
   "nbconvert_exporter": "python",
   "pygments_lexer": "ipython3",
   "version": "3.12.7"
  }
 },
 "nbformat": 4,
 "nbformat_minor": 2
}
