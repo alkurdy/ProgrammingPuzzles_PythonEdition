{
 "cells": [
  {
   "cell_type": "markdown",
   "metadata": {},
   "source": [
    "#### Task 1\n",
    "Define a function **filter_strings_containing_a** that takes two parameters:\n",
    "| Name     | Type | Example Input        |\n",
    "|----------|-----|-------------|\n",
    "| num_one   | int  | 20   |\n",
    "| num_two   | int   | 25   |\n",
    "\n",
    "\n",
    "When called, the function should return either:\n",
    " - The sum of the two numbers if the sum is less than 50 \n",
    " - None if the sum of the two numbers is more than or equal to 50"
   ]
  },
  {
   "cell_type": "code",
   "execution_count": 13,
   "metadata": {},
   "outputs": [
    {
     "name": "stdout",
     "output_type": "stream",
     "text": [
      "cherry doesn't containt 'a'.\n",
      "bbbb doesn't containt 'a'.\n",
      "cccc doesn't containt 'a'.\n",
      "New string list: ['apple', 'banana', 'date'].\n",
      "New string list: [].\n",
      "New string list: [].\n"
     ]
    }
   ],
   "source": [
    "def filter_strings_containing_a(input_strs: list[str], search_char: str) -> list[str]:\n",
    "    \n",
    "    new_strings_list = []\n",
    "    char_to_check = search_char\n",
    "\n",
    "    for input in input_strs:\n",
    "        if  char_to_check in input:\n",
    "            new_strings_list.append(input)\n",
    "        else:\n",
    "            print(f\"{input} doesn't containt '{char_to_check}'.\")\n",
    "    return new_strings_list\n",
    "\n",
    "\n",
    "result1 = filter_strings_containing_a([\"apple\",\"banana\",\"cherry\",\"date\"], 'a')\n",
    "result2 = filter_strings_containing_a([], '')\n",
    "result3 = filter_strings_containing_a([\"bbbb\",\"cccc\"], 'a')\n",
    "\n",
    "print(f\"New string list: {result1}.\")\n",
    "print(f\"New string list: {result2}.\")\n",
    "print(f\"New string list: {result3}.\")"
   ]
  },
  {
   "cell_type": "markdown",
   "metadata": {},
   "source": [
    "### Function Documentation\n",
    "\n",
    "#### Parameters:\n",
    "\n",
    "- **input_strs** (`list[str]`): \n",
    "  This parameter indicates that the function expects a single argument named `input_strs`. The type hint `list[str]` specifies that this argument should be a list of strings.\n",
    "\n",
    "#### Return Type:\n",
    "\n",
    "- **Returns** (`-> list[str]`): \n",
    "  This part indicates the expected return type of the function. It tells the user that the function will return a list of strings.\n"
   ]
  },
  {
   "cell_type": "markdown",
   "metadata": {},
   "source": [
    "What the function should do:\n",
    "1. Check each string in the list of strings for the character 'a'\n",
    "2. If the string contains 'a' place it into a new list of strings.\n",
    "3. Return the new list."
   ]
  },
  {
   "cell_type": "markdown",
   "metadata": {},
   "source": [
    "#### Task 2\n",
    "Define a function **sum_if_less_than_fifty** that takes two parameters:\n",
    "| Name     | Type | Example Input        |\n",
    "|----------|-----|-------------|\n",
    "| num_one   | int  | 20   |\n",
    "| num_two   | int   | 25   |\n",
    "\n",
    "\n",
    "When called, the function should return either:\n",
    " - The sum of the two numbers if the sum is less than 50 \n",
    " - None if the sum of the two numbers is more than or equal to 50"
   ]
  },
  {
   "cell_type": "code",
   "execution_count": 16,
   "metadata": {},
   "outputs": [
    {
     "name": "stdout",
     "output_type": "stream",
     "text": [
      "40\n",
      "None\n",
      "None\n"
     ]
    }
   ],
   "source": [
    "def sum_if_less_than_fifty(num_one: int, num_two: int) -> int | None:\n",
    "        sum = num_one + num_two\n",
    "        if (sum < 50):\n",
    "                return sum\n",
    "        else:\n",
    "                return None\n",
    "        \n",
    "print(sum_if_less_than_fifty(20,20))\n",
    "print(sum_if_less_than_fifty(20,30))\n",
    "print(sum_if_less_than_fifty(20,100))"
   ]
  },
  {
   "cell_type": "markdown",
   "metadata": {},
   "source": [
    "## Breakdown of the Notation\n",
    "\n",
    "- **`->`**: This symbol indicates the start of a return type annotation in a function definition. It follows the parameter list and precedes the colon (`:`) that ends the function signature.\n",
    "\n",
    "- **`int`**: This indicates that the function can return an integer value. In Python, `int` is the type for integer numbers.\n",
    "\n",
    "- **`|`**: This symbol represents a union type. It indicates that the function can return one of multiple types. In this case, it means the function can return either an `int` or another type specified after the `|`.\n",
    "\n",
    "- **`None`**: This indicates that the function can also return `None`, which is a special constant in Python representing the absence of a value. Functions in Python return `None` by default if there is no return statement.\n"
   ]
  }
 ],
 "metadata": {
  "kernelspec": {
   "display_name": "base",
   "language": "python",
   "name": "python3"
  },
  "language_info": {
   "codemirror_mode": {
    "name": "ipython",
    "version": 3
   },
   "file_extension": ".py",
   "mimetype": "text/x-python",
   "name": "python",
   "nbconvert_exporter": "python",
   "pygments_lexer": "ipython3",
   "version": "3.12.7"
  }
 },
 "nbformat": 4,
 "nbformat_minor": 2
}
