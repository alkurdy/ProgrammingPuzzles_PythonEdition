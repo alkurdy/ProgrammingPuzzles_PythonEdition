{
 "cells": [
  {
   "cell_type": "markdown",
   "metadata": {},
   "source": [
    "#### Task\n",
    "Define a function **filter_strings_containing_a** that takes one parameter:\n",
    "| Name     | Type | Example Input        |\n",
    "|----------|-----|-------------|\n",
    "| input_strs    | list of str  | [\"apple\", \"banana\", \"cherry\", \"date\"]   |\n",
    "\n",
    "\n",
    "When called, the function should return a new list containing only strings that contain the letter “a”."
   ]
  },
  {
   "cell_type": "code",
   "execution_count": 12,
   "metadata": {},
   "outputs": [
    {
     "name": "stdout",
     "output_type": "stream",
     "text": [
      "cherry doesn't containt 'a'.\n",
      "New string list: ['apple', 'banana', 'date'].\n",
      "New string list: [].\n"
     ]
    }
   ],
   "source": [
    "def filter_strings_containing_a(input_strs: list[str], search_char: str) -> list[str]:\n",
    "    \n",
    "    new_strings_list = []\n",
    "    char_to_check = search_char\n",
    "\n",
    "    for input in input_strs:\n",
    "        if  char_to_check in input:\n",
    "            new_strings_list.append(input)\n",
    "        else:\n",
    "            print(f\"{input} doesn't containt '{char_to_check}'.\")\n",
    "    return new_strings_list\n",
    "\n",
    "\n",
    "result1 = filter_strings_containing_a([\"apple\",\"banana\",\"cherry\",\"date\"], 'a')\n",
    "result2 = filter_strings_containing_a([], '')\n",
    "result3 = filter_strings_containing_a([\"bbbb\",\"cccc\"], 'a')\n",
    "\n",
    "print(f\"New string list: {result1}.\")\n",
    "print(f\"New string list: {result2}.\")\n",
    "print(f\"New string list: {result3}.\")"
   ]
  },
  {
   "cell_type": "markdown",
   "metadata": {},
   "source": [
    "### Function Documentation\n",
    "\n",
    "#### Parameters:\n",
    "\n",
    "- **input_strs** (`list[str]`): \n",
    "  This parameter indicates that the function expects a single argument named `input_strs`. The type hint `list[str]` specifies that this argument should be a list of strings.\n",
    "\n",
    "#### Return Type:\n",
    "\n",
    "- **Returns** (`-> list[str]`): \n",
    "  This part indicates the expected return type of the function. It tells the user that the function will return a list of strings.\n"
   ]
  },
  {
   "cell_type": "markdown",
   "metadata": {},
   "source": [
    "What the function should do:\n",
    "Check each string in the list of strings for the character 'a'\n",
    "If the string contains 'a' place it into a new list of strings.\n",
    "Return the new list."
   ]
  }
 ],
 "metadata": {
  "kernelspec": {
   "display_name": "base",
   "language": "python",
   "name": "python3"
  },
  "language_info": {
   "codemirror_mode": {
    "name": "ipython",
    "version": 3
   },
   "file_extension": ".py",
   "mimetype": "text/x-python",
   "name": "python",
   "nbconvert_exporter": "python",
   "pygments_lexer": "ipython3",
   "version": "3.12.7"
  }
 },
 "nbformat": 4,
 "nbformat_minor": 2
}
